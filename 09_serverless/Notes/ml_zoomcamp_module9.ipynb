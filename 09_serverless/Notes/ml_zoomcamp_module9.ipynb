{
  "nbformat": 4,
  "nbformat_minor": 0,
  "metadata": {
    "colab": {
      "provenance": []
    },
    "kernelspec": {
      "name": "python3",
      "display_name": "Python 3"
    },
    "language_info": {
      "name": "python"
    }
  },
  "cells": [
    {
      "cell_type": "markdown",
      "source": [
        "Made on google colab"
      ],
      "metadata": {
        "id": "KMiMPG5USPzg"
      }
    },
    {
      "cell_type": "code",
      "execution_count": 1,
      "metadata": {
        "id": "crRe4ejyfTWA"
      },
      "outputs": [],
      "source": [
        "import tensorflow as tf\n",
        "from tensorflow import keras"
      ]
    },
    {
      "cell_type": "code",
      "source": [
        "!python -V"
      ],
      "metadata": {
        "colab": {
          "base_uri": "https://localhost:8080/"
        },
        "id": "i5OloGSknD7O",
        "outputId": "d6ecd0f1-dfb4-4736-9e36-eb922903d986"
      },
      "execution_count": 2,
      "outputs": [
        {
          "output_type": "stream",
          "name": "stdout",
          "text": [
            "Python 3.10.12\n"
          ]
        }
      ]
    },
    {
      "cell_type": "code",
      "source": [
        "import numpy as np\n",
        "\n",
        "import tensorflow as tf\n",
        "from tensorflow import keras\n",
        "\n",
        "tf.__version__"
      ],
      "metadata": {
        "colab": {
          "base_uri": "https://localhost:8080/",
          "height": 36
        },
        "id": "gzIa7AcunHl4",
        "outputId": "d4b10ac9-4321-4520-e46e-8205e82b87e6"
      },
      "execution_count": 3,
      "outputs": [
        {
          "output_type": "execute_result",
          "data": {
            "text/plain": [
              "'2.17.1'"
            ],
            "application/vnd.google.colaboratory.intrinsic+json": {
              "type": "string"
            }
          },
          "metadata": {},
          "execution_count": 3
        }
      ]
    },
    {
      "cell_type": "code",
      "source": [
        "!wget http://bit.ly/mlbookcamp-pants -O pants.jpg"
      ],
      "metadata": {
        "colab": {
          "base_uri": "https://localhost:8080/"
        },
        "id": "wcEIqDvInMka",
        "outputId": "c0c92c7b-7d09-4b35-e7aa-8e2a64c45f40"
      },
      "execution_count": 4,
      "outputs": [
        {
          "output_type": "stream",
          "name": "stdout",
          "text": [
            "--2024-12-16 20:56:46--  http://bit.ly/mlbookcamp-pants\n",
            "Resolving bit.ly (bit.ly)... 67.199.248.10, 67.199.248.11\n",
            "Connecting to bit.ly (bit.ly)|67.199.248.10|:80... connected.\n",
            "HTTP request sent, awaiting response... 301 Moved Permanently\n",
            "Location: https://raw.githubusercontent.com/alexeygrigorev/clothing-dataset-small/master/test/pants/4aabd82c-82e1-4181-a84d-d0c6e550d26d.jpg [following]\n",
            "--2024-12-16 20:56:46--  https://raw.githubusercontent.com/alexeygrigorev/clothing-dataset-small/master/test/pants/4aabd82c-82e1-4181-a84d-d0c6e550d26d.jpg\n",
            "Resolving raw.githubusercontent.com (raw.githubusercontent.com)... 185.199.108.133, 185.199.109.133, 185.199.110.133, ...\n",
            "Connecting to raw.githubusercontent.com (raw.githubusercontent.com)|185.199.108.133|:443... connected.\n",
            "HTTP request sent, awaiting response... 200 OK\n",
            "Length: 23048 (23K) [image/jpeg]\n",
            "Saving to: ‘pants.jpg’\n",
            "\n",
            "pants.jpg           100%[===================>]  22.51K  --.-KB/s    in 0.002s  \n",
            "\n",
            "2024-12-16 20:56:46 (13.4 MB/s) - ‘pants.jpg’ saved [23048/23048]\n",
            "\n"
          ]
        }
      ]
    },
    {
      "cell_type": "code",
      "source": [
        "from google.colab import files\n",
        "uploaded = files.upload()"
      ],
      "metadata": {
        "colab": {
          "base_uri": "https://localhost:8080/",
          "height": 74
        },
        "id": "SxRKohcnnTNs",
        "outputId": "23e4cd32-d3c4-4899-f0d2-72d01c3ee84b"
      },
      "execution_count": 5,
      "outputs": [
        {
          "output_type": "display_data",
          "data": {
            "text/plain": [
              "<IPython.core.display.HTML object>"
            ],
            "text/html": [
              "\n",
              "     <input type=\"file\" id=\"files-d7525537-078d-445b-891c-3b2afc7101d9\" name=\"files[]\" multiple disabled\n",
              "        style=\"border:none\" />\n",
              "     <output id=\"result-d7525537-078d-445b-891c-3b2afc7101d9\">\n",
              "      Upload widget is only available when the cell has been executed in the\n",
              "      current browser session. Please rerun this cell to enable.\n",
              "      </output>\n",
              "      <script>// Copyright 2017 Google LLC\n",
              "//\n",
              "// Licensed under the Apache License, Version 2.0 (the \"License\");\n",
              "// you may not use this file except in compliance with the License.\n",
              "// You may obtain a copy of the License at\n",
              "//\n",
              "//      http://www.apache.org/licenses/LICENSE-2.0\n",
              "//\n",
              "// Unless required by applicable law or agreed to in writing, software\n",
              "// distributed under the License is distributed on an \"AS IS\" BASIS,\n",
              "// WITHOUT WARRANTIES OR CONDITIONS OF ANY KIND, either express or implied.\n",
              "// See the License for the specific language governing permissions and\n",
              "// limitations under the License.\n",
              "\n",
              "/**\n",
              " * @fileoverview Helpers for google.colab Python module.\n",
              " */\n",
              "(function(scope) {\n",
              "function span(text, styleAttributes = {}) {\n",
              "  const element = document.createElement('span');\n",
              "  element.textContent = text;\n",
              "  for (const key of Object.keys(styleAttributes)) {\n",
              "    element.style[key] = styleAttributes[key];\n",
              "  }\n",
              "  return element;\n",
              "}\n",
              "\n",
              "// Max number of bytes which will be uploaded at a time.\n",
              "const MAX_PAYLOAD_SIZE = 100 * 1024;\n",
              "\n",
              "function _uploadFiles(inputId, outputId) {\n",
              "  const steps = uploadFilesStep(inputId, outputId);\n",
              "  const outputElement = document.getElementById(outputId);\n",
              "  // Cache steps on the outputElement to make it available for the next call\n",
              "  // to uploadFilesContinue from Python.\n",
              "  outputElement.steps = steps;\n",
              "\n",
              "  return _uploadFilesContinue(outputId);\n",
              "}\n",
              "\n",
              "// This is roughly an async generator (not supported in the browser yet),\n",
              "// where there are multiple asynchronous steps and the Python side is going\n",
              "// to poll for completion of each step.\n",
              "// This uses a Promise to block the python side on completion of each step,\n",
              "// then passes the result of the previous step as the input to the next step.\n",
              "function _uploadFilesContinue(outputId) {\n",
              "  const outputElement = document.getElementById(outputId);\n",
              "  const steps = outputElement.steps;\n",
              "\n",
              "  const next = steps.next(outputElement.lastPromiseValue);\n",
              "  return Promise.resolve(next.value.promise).then((value) => {\n",
              "    // Cache the last promise value to make it available to the next\n",
              "    // step of the generator.\n",
              "    outputElement.lastPromiseValue = value;\n",
              "    return next.value.response;\n",
              "  });\n",
              "}\n",
              "\n",
              "/**\n",
              " * Generator function which is called between each async step of the upload\n",
              " * process.\n",
              " * @param {string} inputId Element ID of the input file picker element.\n",
              " * @param {string} outputId Element ID of the output display.\n",
              " * @return {!Iterable<!Object>} Iterable of next steps.\n",
              " */\n",
              "function* uploadFilesStep(inputId, outputId) {\n",
              "  const inputElement = document.getElementById(inputId);\n",
              "  inputElement.disabled = false;\n",
              "\n",
              "  const outputElement = document.getElementById(outputId);\n",
              "  outputElement.innerHTML = '';\n",
              "\n",
              "  const pickedPromise = new Promise((resolve) => {\n",
              "    inputElement.addEventListener('change', (e) => {\n",
              "      resolve(e.target.files);\n",
              "    });\n",
              "  });\n",
              "\n",
              "  const cancel = document.createElement('button');\n",
              "  inputElement.parentElement.appendChild(cancel);\n",
              "  cancel.textContent = 'Cancel upload';\n",
              "  const cancelPromise = new Promise((resolve) => {\n",
              "    cancel.onclick = () => {\n",
              "      resolve(null);\n",
              "    };\n",
              "  });\n",
              "\n",
              "  // Wait for the user to pick the files.\n",
              "  const files = yield {\n",
              "    promise: Promise.race([pickedPromise, cancelPromise]),\n",
              "    response: {\n",
              "      action: 'starting',\n",
              "    }\n",
              "  };\n",
              "\n",
              "  cancel.remove();\n",
              "\n",
              "  // Disable the input element since further picks are not allowed.\n",
              "  inputElement.disabled = true;\n",
              "\n",
              "  if (!files) {\n",
              "    return {\n",
              "      response: {\n",
              "        action: 'complete',\n",
              "      }\n",
              "    };\n",
              "  }\n",
              "\n",
              "  for (const file of files) {\n",
              "    const li = document.createElement('li');\n",
              "    li.append(span(file.name, {fontWeight: 'bold'}));\n",
              "    li.append(span(\n",
              "        `(${file.type || 'n/a'}) - ${file.size} bytes, ` +\n",
              "        `last modified: ${\n",
              "            file.lastModifiedDate ? file.lastModifiedDate.toLocaleDateString() :\n",
              "                                    'n/a'} - `));\n",
              "    const percent = span('0% done');\n",
              "    li.appendChild(percent);\n",
              "\n",
              "    outputElement.appendChild(li);\n",
              "\n",
              "    const fileDataPromise = new Promise((resolve) => {\n",
              "      const reader = new FileReader();\n",
              "      reader.onload = (e) => {\n",
              "        resolve(e.target.result);\n",
              "      };\n",
              "      reader.readAsArrayBuffer(file);\n",
              "    });\n",
              "    // Wait for the data to be ready.\n",
              "    let fileData = yield {\n",
              "      promise: fileDataPromise,\n",
              "      response: {\n",
              "        action: 'continue',\n",
              "      }\n",
              "    };\n",
              "\n",
              "    // Use a chunked sending to avoid message size limits. See b/62115660.\n",
              "    let position = 0;\n",
              "    do {\n",
              "      const length = Math.min(fileData.byteLength - position, MAX_PAYLOAD_SIZE);\n",
              "      const chunk = new Uint8Array(fileData, position, length);\n",
              "      position += length;\n",
              "\n",
              "      const base64 = btoa(String.fromCharCode.apply(null, chunk));\n",
              "      yield {\n",
              "        response: {\n",
              "          action: 'append',\n",
              "          file: file.name,\n",
              "          data: base64,\n",
              "        },\n",
              "      };\n",
              "\n",
              "      let percentDone = fileData.byteLength === 0 ?\n",
              "          100 :\n",
              "          Math.round((position / fileData.byteLength) * 100);\n",
              "      percent.textContent = `${percentDone}% done`;\n",
              "\n",
              "    } while (position < fileData.byteLength);\n",
              "  }\n",
              "\n",
              "  // All done.\n",
              "  yield {\n",
              "    response: {\n",
              "      action: 'complete',\n",
              "    }\n",
              "  };\n",
              "}\n",
              "\n",
              "scope.google = scope.google || {};\n",
              "scope.google.colab = scope.google.colab || {};\n",
              "scope.google.colab._files = {\n",
              "  _uploadFiles,\n",
              "  _uploadFilesContinue,\n",
              "};\n",
              "})(self);\n",
              "</script> "
            ]
          },
          "metadata": {}
        },
        {
          "output_type": "stream",
          "name": "stdout",
          "text": [
            "Saving clothing_model_from_module8.keras to clothing_model_from_module8.keras\n"
          ]
        }
      ]
    },
    {
      "cell_type": "code",
      "source": [
        "from tensorflow.keras.preprocessing.image import load_img\n",
        "from tensorflow.keras.applications.xception import preprocess_input"
      ],
      "metadata": {
        "id": "VLWemIHSnfOm"
      },
      "execution_count": 6,
      "outputs": []
    },
    {
      "cell_type": "code",
      "source": [
        "model = keras.models.load_model('clothing_model_from_module8.keras')"
      ],
      "metadata": {
        "id": "vblvxf3KfskH"
      },
      "execution_count": 7,
      "outputs": []
    },
    {
      "cell_type": "code",
      "source": [
        "img = load_img('pants.jpg', target_size=(299, 299))\n",
        "\n",
        "x = np.array(img)\n",
        "X = np.array([x])\n",
        "\n",
        "X = preprocess_input(X)"
      ],
      "metadata": {
        "id": "WZkJdG7df86R"
      },
      "execution_count": 8,
      "outputs": []
    },
    {
      "cell_type": "code",
      "source": [
        "preds = model.predict(X)\n"
      ],
      "metadata": {
        "colab": {
          "base_uri": "https://localhost:8080/"
        },
        "id": "gIIOLmtuQ4sf",
        "outputId": "5ac80e9c-5637-4ab8-e78b-f82600463de8"
      },
      "execution_count": 9,
      "outputs": [
        {
          "output_type": "stream",
          "name": "stdout",
          "text": [
            "\u001b[1m1/1\u001b[0m \u001b[32m━━━━━━━━━━━━━━━━━━━━\u001b[0m\u001b[37m\u001b[0m \u001b[1m7s\u001b[0m 7s/step\n"
          ]
        }
      ]
    },
    {
      "cell_type": "code",
      "source": [
        "preds"
      ],
      "metadata": {
        "colab": {
          "base_uri": "https://localhost:8080/"
        },
        "id": "p0zPKDRfQ7VB",
        "outputId": "7e142215-23b2-4ce8-c253-2421df01fb58"
      },
      "execution_count": 10,
      "outputs": [
        {
          "output_type": "execute_result",
          "data": {
            "text/plain": [
              "array([[-2.229012 , -4.819431 , -1.3372766, -1.046778 ,  7.787136 ,\n",
              "        -0.3799843, -2.9674664,  2.9388351, -2.46029  , -3.8072712]],\n",
              "      dtype=float32)"
            ]
          },
          "metadata": {},
          "execution_count": 10
        }
      ]
    },
    {
      "cell_type": "code",
      "source": [
        "classes = [\n",
        "    'dress',\n",
        "    'hat',\n",
        "    'longsleeve',\n",
        "    'outwear',\n",
        "    'pants',\n",
        "    'shirt',\n",
        "    'shoes',\n",
        "    'shorts',\n",
        "    'skirt',\n",
        "    't-shirt'\n",
        "]"
      ],
      "metadata": {
        "id": "23UowDlQQ-Gf"
      },
      "execution_count": 11,
      "outputs": []
    },
    {
      "cell_type": "code",
      "source": [
        "dict(zip(classes, preds[0]))\n"
      ],
      "metadata": {
        "colab": {
          "base_uri": "https://localhost:8080/"
        },
        "id": "QsRNz-2aRA_t",
        "outputId": "0ade9c07-a7b1-4198-f172-664316e43b35"
      },
      "execution_count": 12,
      "outputs": [
        {
          "output_type": "execute_result",
          "data": {
            "text/plain": [
              "{'dress': -2.229012,\n",
              " 'hat': -4.819431,\n",
              " 'longsleeve': -1.3372766,\n",
              " 'outwear': -1.046778,\n",
              " 'pants': 7.787136,\n",
              " 'shirt': -0.3799843,\n",
              " 'shoes': -2.9674664,\n",
              " 'shorts': 2.9388351,\n",
              " 'skirt': -2.46029,\n",
              " 't-shirt': -3.8072712}"
            ]
          },
          "metadata": {},
          "execution_count": 12
        }
      ]
    },
    {
      "cell_type": "markdown",
      "source": [
        "Keras to TF Lite"
      ],
      "metadata": {
        "id": "9ZEq9ZGgRDZE"
      }
    },
    {
      "cell_type": "code",
      "source": [
        "converter = tf.lite.TFLiteConverter.from_keras_model(model)\n",
        "\n",
        "tflite_model = converter.convert()\n",
        "\n",
        "with open('clothing-model.tflite', 'wb') as f_out:\n",
        "    f_out.write(tflite_model)"
      ],
      "metadata": {
        "colab": {
          "base_uri": "https://localhost:8080/"
        },
        "id": "klWRtxFJRH67",
        "outputId": "e8aafbc9-1bd7-4d55-8abf-0b94c8070245"
      },
      "execution_count": 13,
      "outputs": [
        {
          "output_type": "stream",
          "name": "stdout",
          "text": [
            "Saved artifact at '/tmp/tmpn5eyxlog'. The following endpoints are available:\n",
            "\n",
            "* Endpoint 'serve'\n",
            "  args_0 (POSITIONAL_ONLY): TensorSpec(shape=(None, 299, 299, 3), dtype=tf.float32, name='input_layer_4')\n",
            "Output Type:\n",
            "  TensorSpec(shape=(None, 10), dtype=tf.float32, name=None)\n",
            "Captures:\n",
            "  131985977951328: TensorSpec(shape=(), dtype=tf.resource, name=None)\n",
            "  131985977961712: TensorSpec(shape=(), dtype=tf.resource, name=None)\n",
            "  131985977963824: TensorSpec(shape=(), dtype=tf.resource, name=None)\n",
            "  131985977957136: TensorSpec(shape=(), dtype=tf.resource, name=None)\n",
            "  131985977959424: TensorSpec(shape=(), dtype=tf.resource, name=None)\n",
            "  131985977963472: TensorSpec(shape=(), dtype=tf.resource, name=None)\n",
            "  131985978098432: TensorSpec(shape=(), dtype=tf.resource, name=None)\n",
            "  131985978102832: TensorSpec(shape=(), dtype=tf.resource, name=None)\n",
            "  131985978099488: TensorSpec(shape=(), dtype=tf.resource, name=None)\n",
            "  131985978102128: TensorSpec(shape=(), dtype=tf.resource, name=None)\n",
            "  131985978105648: TensorSpec(shape=(), dtype=tf.resource, name=None)\n",
            "  131985978106176: TensorSpec(shape=(), dtype=tf.resource, name=None)\n",
            "  131985978106352: TensorSpec(shape=(), dtype=tf.resource, name=None)\n",
            "  131985978110048: TensorSpec(shape=(), dtype=tf.resource, name=None)\n",
            "  131985978104944: TensorSpec(shape=(), dtype=tf.resource, name=None)\n",
            "  131985978107408: TensorSpec(shape=(), dtype=tf.resource, name=None)\n",
            "  131985978113744: TensorSpec(shape=(), dtype=tf.resource, name=None)\n",
            "  131985978111104: TensorSpec(shape=(), dtype=tf.resource, name=None)\n",
            "  131985978151984: TensorSpec(shape=(), dtype=tf.resource, name=None)\n",
            "  131985978147936: TensorSpec(shape=(), dtype=tf.resource, name=None)\n",
            "  131985978150752: TensorSpec(shape=(), dtype=tf.resource, name=None)\n",
            "  131985978147232: TensorSpec(shape=(), dtype=tf.resource, name=None)\n",
            "  131985978149520: TensorSpec(shape=(), dtype=tf.resource, name=None)\n",
            "  131985978152160: TensorSpec(shape=(), dtype=tf.resource, name=None)\n",
            "  131985978157616: TensorSpec(shape=(), dtype=tf.resource, name=None)\n",
            "  131985978155856: TensorSpec(shape=(), dtype=tf.resource, name=None)\n",
            "  131985978156384: TensorSpec(shape=(), dtype=tf.resource, name=None)\n",
            "  131985978162544: TensorSpec(shape=(), dtype=tf.resource, name=None)\n",
            "  131985978162016: TensorSpec(shape=(), dtype=tf.resource, name=None)\n",
            "  131985978231968: TensorSpec(shape=(), dtype=tf.resource, name=None)\n",
            "  131985978232320: TensorSpec(shape=(), dtype=tf.resource, name=None)\n",
            "  131985978230208: TensorSpec(shape=(), dtype=tf.resource, name=None)\n",
            "  131985978231088: TensorSpec(shape=(), dtype=tf.resource, name=None)\n",
            "  131985978236544: TensorSpec(shape=(), dtype=tf.resource, name=None)\n",
            "  131985978236016: TensorSpec(shape=(), dtype=tf.resource, name=None)\n",
            "  131985978241296: TensorSpec(shape=(), dtype=tf.resource, name=None)\n",
            "  131985978236192: TensorSpec(shape=(), dtype=tf.resource, name=None)\n",
            "  131985978240064: TensorSpec(shape=(), dtype=tf.resource, name=None)\n",
            "  131985978235840: TensorSpec(shape=(), dtype=tf.resource, name=None)\n",
            "  131985978237424: TensorSpec(shape=(), dtype=tf.resource, name=None)\n",
            "  131985978312304: TensorSpec(shape=(), dtype=tf.resource, name=None)\n",
            "  131985978243760: TensorSpec(shape=(), dtype=tf.resource, name=None)\n",
            "  131985978244816: TensorSpec(shape=(), dtype=tf.resource, name=None)\n",
            "  131985978311600: TensorSpec(shape=(), dtype=tf.resource, name=None)\n",
            "  131985978318640: TensorSpec(shape=(), dtype=tf.resource, name=None)\n",
            "  131985978318112: TensorSpec(shape=(), dtype=tf.resource, name=None)\n",
            "  131985978318288: TensorSpec(shape=(), dtype=tf.resource, name=None)\n",
            "  131985978322160: TensorSpec(shape=(), dtype=tf.resource, name=None)\n",
            "  131985978317936: TensorSpec(shape=(), dtype=tf.resource, name=None)\n",
            "  131985978319520: TensorSpec(shape=(), dtype=tf.resource, name=None)\n",
            "  131985978325856: TensorSpec(shape=(), dtype=tf.resource, name=None)\n",
            "  131985978324976: TensorSpec(shape=(), dtype=tf.resource, name=None)\n",
            "  131985978396864: TensorSpec(shape=(), dtype=tf.resource, name=None)\n",
            "  131985978392816: TensorSpec(shape=(), dtype=tf.resource, name=None)\n",
            "  131985978395280: TensorSpec(shape=(), dtype=tf.resource, name=None)\n",
            "  131985978394576: TensorSpec(shape=(), dtype=tf.resource, name=None)\n",
            "  131985978392992: TensorSpec(shape=(), dtype=tf.resource, name=None)\n",
            "  131985978398976: TensorSpec(shape=(), dtype=tf.resource, name=None)\n",
            "  131985978402672: TensorSpec(shape=(), dtype=tf.resource, name=None)\n",
            "  131985978400736: TensorSpec(shape=(), dtype=tf.resource, name=None)\n",
            "  131985978401440: TensorSpec(shape=(), dtype=tf.resource, name=None)\n",
            "  131985978407776: TensorSpec(shape=(), dtype=tf.resource, name=None)\n",
            "  131985978406896: TensorSpec(shape=(), dtype=tf.resource, name=None)\n",
            "  131985959616752: TensorSpec(shape=(), dtype=tf.resource, name=None)\n",
            "  131985959619216: TensorSpec(shape=(), dtype=tf.resource, name=None)\n",
            "  131985959618512: TensorSpec(shape=(), dtype=tf.resource, name=None)\n",
            "  131985959616928: TensorSpec(shape=(), dtype=tf.resource, name=None)\n",
            "  131985959623792: TensorSpec(shape=(), dtype=tf.resource, name=None)\n",
            "  131985959623264: TensorSpec(shape=(), dtype=tf.resource, name=None)\n",
            "  131985959623440: TensorSpec(shape=(), dtype=tf.resource, name=None)\n",
            "  131985959627312: TensorSpec(shape=(), dtype=tf.resource, name=None)\n",
            "  131985959623088: TensorSpec(shape=(), dtype=tf.resource, name=None)\n",
            "  131985959624672: TensorSpec(shape=(), dtype=tf.resource, name=None)\n",
            "  131985959631008: TensorSpec(shape=(), dtype=tf.resource, name=None)\n",
            "  131985959630128: TensorSpec(shape=(), dtype=tf.resource, name=None)\n",
            "  131985959632592: TensorSpec(shape=(), dtype=tf.resource, name=None)\n",
            "  131985959684048: TensorSpec(shape=(), dtype=tf.resource, name=None)\n",
            "  131985959631712: TensorSpec(shape=(), dtype=tf.resource, name=None)\n",
            "  131985959682112: TensorSpec(shape=(), dtype=tf.resource, name=None)\n",
            "  131985959690032: TensorSpec(shape=(), dtype=tf.resource, name=None)\n",
            "  131985959689504: TensorSpec(shape=(), dtype=tf.resource, name=None)\n",
            "  131985959689680: TensorSpec(shape=(), dtype=tf.resource, name=None)\n",
            "  131985959693552: TensorSpec(shape=(), dtype=tf.resource, name=None)\n",
            "  131985959689328: TensorSpec(shape=(), dtype=tf.resource, name=None)\n",
            "  131985959690912: TensorSpec(shape=(), dtype=tf.resource, name=None)\n",
            "  131985959697248: TensorSpec(shape=(), dtype=tf.resource, name=None)\n",
            "  131985959696368: TensorSpec(shape=(), dtype=tf.resource, name=None)\n",
            "  131985959780592: TensorSpec(shape=(), dtype=tf.resource, name=None)\n",
            "  131985959783056: TensorSpec(shape=(), dtype=tf.resource, name=None)\n",
            "  131985959782352: TensorSpec(shape=(), dtype=tf.resource, name=None)\n",
            "  131985959780768: TensorSpec(shape=(), dtype=tf.resource, name=None)\n",
            "  131985959787632: TensorSpec(shape=(), dtype=tf.resource, name=None)\n",
            "  131985959787104: TensorSpec(shape=(), dtype=tf.resource, name=None)\n",
            "  131985959787280: TensorSpec(shape=(), dtype=tf.resource, name=None)\n",
            "  131985959791152: TensorSpec(shape=(), dtype=tf.resource, name=None)\n",
            "  131985959786928: TensorSpec(shape=(), dtype=tf.resource, name=None)\n",
            "  131985959788512: TensorSpec(shape=(), dtype=tf.resource, name=None)\n",
            "  131985959796256: TensorSpec(shape=(), dtype=tf.resource, name=None)\n",
            "  131985959793616: TensorSpec(shape=(), dtype=tf.resource, name=None)\n",
            "  131985959846832: TensorSpec(shape=(), dtype=tf.resource, name=None)\n",
            "  131985959849648: TensorSpec(shape=(), dtype=tf.resource, name=None)\n",
            "  131985959848768: TensorSpec(shape=(), dtype=tf.resource, name=None)\n",
            "  131985959848416: TensorSpec(shape=(), dtype=tf.resource, name=None)\n",
            "  131985959853872: TensorSpec(shape=(), dtype=tf.resource, name=None)\n",
            "  131985959853344: TensorSpec(shape=(), dtype=tf.resource, name=None)\n",
            "  131985959853520: TensorSpec(shape=(), dtype=tf.resource, name=None)\n",
            "  131985959857392: TensorSpec(shape=(), dtype=tf.resource, name=None)\n",
            "  131985959853168: TensorSpec(shape=(), dtype=tf.resource, name=None)\n",
            "  131985959854752: TensorSpec(shape=(), dtype=tf.resource, name=None)\n",
            "  131985959861088: TensorSpec(shape=(), dtype=tf.resource, name=None)\n",
            "  131985959860208: TensorSpec(shape=(), dtype=tf.resource, name=None)\n",
            "  131985959928048: TensorSpec(shape=(), dtype=tf.resource, name=None)\n",
            "  131985959930512: TensorSpec(shape=(), dtype=tf.resource, name=None)\n",
            "  131985959929808: TensorSpec(shape=(), dtype=tf.resource, name=None)\n",
            "  131985959928224: TensorSpec(shape=(), dtype=tf.resource, name=None)\n",
            "  131985959936496: TensorSpec(shape=(), dtype=tf.resource, name=None)\n",
            "  131985959935968: TensorSpec(shape=(), dtype=tf.resource, name=None)\n",
            "  131985959936144: TensorSpec(shape=(), dtype=tf.resource, name=None)\n",
            "  131985959940016: TensorSpec(shape=(), dtype=tf.resource, name=None)\n",
            "  131985959935792: TensorSpec(shape=(), dtype=tf.resource, name=None)\n",
            "  131985959937376: TensorSpec(shape=(), dtype=tf.resource, name=None)\n",
            "  131985959943712: TensorSpec(shape=(), dtype=tf.resource, name=None)\n",
            "  131985959941072: TensorSpec(shape=(), dtype=tf.resource, name=None)\n",
            "  131985960043440: TensorSpec(shape=(), dtype=tf.resource, name=None)\n",
            "  131985960046256: TensorSpec(shape=(), dtype=tf.resource, name=None)\n",
            "  131985960045376: TensorSpec(shape=(), dtype=tf.resource, name=None)\n",
            "  131985960045024: TensorSpec(shape=(), dtype=tf.resource, name=None)\n",
            "  131985960050480: TensorSpec(shape=(), dtype=tf.resource, name=None)\n",
            "  131985960049952: TensorSpec(shape=(), dtype=tf.resource, name=None)\n",
            "  131985960050128: TensorSpec(shape=(), dtype=tf.resource, name=None)\n",
            "  131985960054000: TensorSpec(shape=(), dtype=tf.resource, name=None)\n",
            "  131985960049776: TensorSpec(shape=(), dtype=tf.resource, name=None)\n",
            "  131985960051360: TensorSpec(shape=(), dtype=tf.resource, name=None)\n",
            "  131985960049072: TensorSpec(shape=(), dtype=tf.resource, name=None)\n",
            "  131985960056464: TensorSpec(shape=(), dtype=tf.resource, name=None)\n",
            "  131985960095232: TensorSpec(shape=(), dtype=tf.resource, name=None)\n",
            "  131985960096112: TensorSpec(shape=(), dtype=tf.resource, name=None)\n",
            "  131985960092240: TensorSpec(shape=(), dtype=tf.resource, name=None)\n",
            "  131985960094880: TensorSpec(shape=(), dtype=tf.resource, name=None)\n",
            "  131985960100336: TensorSpec(shape=(), dtype=tf.resource, name=None)\n",
            "  131985960099808: TensorSpec(shape=(), dtype=tf.resource, name=None)\n",
            "  131985960099984: TensorSpec(shape=(), dtype=tf.resource, name=None)\n",
            "  131985960103856: TensorSpec(shape=(), dtype=tf.resource, name=None)\n",
            "  131985960099632: TensorSpec(shape=(), dtype=tf.resource, name=None)\n",
            "  131985960101216: TensorSpec(shape=(), dtype=tf.resource, name=None)\n",
            "  131985960107552: TensorSpec(shape=(), dtype=tf.resource, name=None)\n",
            "  131985960104912: TensorSpec(shape=(), dtype=tf.resource, name=None)\n",
            "  131985960207280: TensorSpec(shape=(), dtype=tf.resource, name=None)\n",
            "  131985960210096: TensorSpec(shape=(), dtype=tf.resource, name=None)\n",
            "  131985960209216: TensorSpec(shape=(), dtype=tf.resource, name=None)\n",
            "  131985960208864: TensorSpec(shape=(), dtype=tf.resource, name=None)\n",
            "  131985960215728: TensorSpec(shape=(), dtype=tf.resource, name=None)\n",
            "  131985960215200: TensorSpec(shape=(), dtype=tf.resource, name=None)\n",
            "  131985960215376: TensorSpec(shape=(), dtype=tf.resource, name=None)\n",
            "  131985960219248: TensorSpec(shape=(), dtype=tf.resource, name=None)\n",
            "  131985960215024: TensorSpec(shape=(), dtype=tf.resource, name=None)\n",
            "  131985960216608: TensorSpec(shape=(), dtype=tf.resource, name=None)\n",
            "  131985960214320: TensorSpec(shape=(), dtype=tf.resource, name=None)\n",
            "  131985960220304: TensorSpec(shape=(), dtype=tf.resource, name=None)\n",
            "  131985960291840: TensorSpec(shape=(), dtype=tf.resource, name=None)\n",
            "  131985960292720: TensorSpec(shape=(), dtype=tf.resource, name=None)\n",
            "  131985960288848: TensorSpec(shape=(), dtype=tf.resource, name=None)\n",
            "  131985960291488: TensorSpec(shape=(), dtype=tf.resource, name=None)\n",
            "  131985960296944: TensorSpec(shape=(), dtype=tf.resource, name=None)\n",
            "  131985960296416: TensorSpec(shape=(), dtype=tf.resource, name=None)\n",
            "  131985960296592: TensorSpec(shape=(), dtype=tf.resource, name=None)\n",
            "  131985960300464: TensorSpec(shape=(), dtype=tf.resource, name=None)\n",
            "  131985960296240: TensorSpec(shape=(), dtype=tf.resource, name=None)\n",
            "  131985960297824: TensorSpec(shape=(), dtype=tf.resource, name=None)\n",
            "  131985960295536: TensorSpec(shape=(), dtype=tf.resource, name=None)\n",
            "  131985960302928: TensorSpec(shape=(), dtype=tf.resource, name=None)\n",
            "  131985960387680: TensorSpec(shape=(), dtype=tf.resource, name=None)\n",
            "  131985960391728: TensorSpec(shape=(), dtype=tf.resource, name=None)\n",
            "  131985960387504: TensorSpec(shape=(), dtype=tf.resource, name=None)\n",
            "  131985960389088: TensorSpec(shape=(), dtype=tf.resource, name=None)\n",
            "  131985960395952: TensorSpec(shape=(), dtype=tf.resource, name=None)\n",
            "  131985960395424: TensorSpec(shape=(), dtype=tf.resource, name=None)\n",
            "  131985960395600: TensorSpec(shape=(), dtype=tf.resource, name=None)\n",
            "  131985960399472: TensorSpec(shape=(), dtype=tf.resource, name=None)\n",
            "  131985960395248: TensorSpec(shape=(), dtype=tf.resource, name=None)\n",
            "  131985960396832: TensorSpec(shape=(), dtype=tf.resource, name=None)\n",
            "  131985960394544: TensorSpec(shape=(), dtype=tf.resource, name=None)\n",
            "  131985960400528: TensorSpec(shape=(), dtype=tf.resource, name=None)\n",
            "  131985960439296: TensorSpec(shape=(), dtype=tf.resource, name=None)\n",
            "  131985960440176: TensorSpec(shape=(), dtype=tf.resource, name=None)\n",
            "  131985960436304: TensorSpec(shape=(), dtype=tf.resource, name=None)\n",
            "  131985960438944: TensorSpec(shape=(), dtype=tf.resource, name=None)\n",
            "  131985960445808: TensorSpec(shape=(), dtype=tf.resource, name=None)\n",
            "  131985960445280: TensorSpec(shape=(), dtype=tf.resource, name=None)\n",
            "  131985960445456: TensorSpec(shape=(), dtype=tf.resource, name=None)\n",
            "  131985960449328: TensorSpec(shape=(), dtype=tf.resource, name=None)\n",
            "  131985960445104: TensorSpec(shape=(), dtype=tf.resource, name=None)\n",
            "  131985960446688: TensorSpec(shape=(), dtype=tf.resource, name=None)\n",
            "  131985960444400: TensorSpec(shape=(), dtype=tf.resource, name=None)\n",
            "  131985960450384: TensorSpec(shape=(), dtype=tf.resource, name=None)\n",
            "  131985960551520: TensorSpec(shape=(), dtype=tf.resource, name=None)\n",
            "  131985960555568: TensorSpec(shape=(), dtype=tf.resource, name=None)\n",
            "  131985960551344: TensorSpec(shape=(), dtype=tf.resource, name=None)\n",
            "  131985960552928: TensorSpec(shape=(), dtype=tf.resource, name=None)\n",
            "  131985960559792: TensorSpec(shape=(), dtype=tf.resource, name=None)\n",
            "  131985960559264: TensorSpec(shape=(), dtype=tf.resource, name=None)\n",
            "  131985960559440: TensorSpec(shape=(), dtype=tf.resource, name=None)\n",
            "  131985960563312: TensorSpec(shape=(), dtype=tf.resource, name=None)\n",
            "  131985960559088: TensorSpec(shape=(), dtype=tf.resource, name=None)\n",
            "  131985960560672: TensorSpec(shape=(), dtype=tf.resource, name=None)\n",
            "  131985960558384: TensorSpec(shape=(), dtype=tf.resource, name=None)\n",
            "  131985958570288: TensorSpec(shape=(), dtype=tf.resource, name=None)\n",
            "  131985958569760: TensorSpec(shape=(), dtype=tf.resource, name=None)\n",
            "  131985958573808: TensorSpec(shape=(), dtype=tf.resource, name=None)\n",
            "  131985958569584: TensorSpec(shape=(), dtype=tf.resource, name=None)\n",
            "  131985958571168: TensorSpec(shape=(), dtype=tf.resource, name=None)\n",
            "  131985958578032: TensorSpec(shape=(), dtype=tf.resource, name=None)\n",
            "  131985958577504: TensorSpec(shape=(), dtype=tf.resource, name=None)\n",
            "  131985958583664: TensorSpec(shape=(), dtype=tf.resource, name=None)\n",
            "  131985958577680: TensorSpec(shape=(), dtype=tf.resource, name=None)\n",
            "  131985958581552: TensorSpec(shape=(), dtype=tf.resource, name=None)\n",
            "  131985958577328: TensorSpec(shape=(), dtype=tf.resource, name=None)\n",
            "  131985958578912: TensorSpec(shape=(), dtype=tf.resource, name=None)\n",
            "  131985958653792: TensorSpec(shape=(), dtype=tf.resource, name=None)\n",
            "  131985958654320: TensorSpec(shape=(), dtype=tf.resource, name=None)\n",
            "  131985958650976: TensorSpec(shape=(), dtype=tf.resource, name=None)\n",
            "  131985958653088: TensorSpec(shape=(), dtype=tf.resource, name=None)\n",
            "  131985958658544: TensorSpec(shape=(), dtype=tf.resource, name=None)\n",
            "  131985958658016: TensorSpec(shape=(), dtype=tf.resource, name=None)\n",
            "  131985958658192: TensorSpec(shape=(), dtype=tf.resource, name=None)\n",
            "  131985958662064: TensorSpec(shape=(), dtype=tf.resource, name=None)\n",
            "  131985958657840: TensorSpec(shape=(), dtype=tf.resource, name=None)\n",
            "  131985958659424: TensorSpec(shape=(), dtype=tf.resource, name=None)\n",
            "  131985958665760: TensorSpec(shape=(), dtype=tf.resource, name=None)\n",
            "  131985995809536: TensorSpec(shape=(), dtype=tf.resource, name=None)\n",
            "  131985977953264: TensorSpec(shape=(), dtype=tf.resource, name=None)\n",
            "  131985977950976: TensorSpec(shape=(), dtype=tf.resource, name=None)\n",
            "  131985977950800: TensorSpec(shape=(), dtype=tf.resource, name=None)\n",
            "  131985977956784: TensorSpec(shape=(), dtype=tf.resource, name=None)\n",
            "  131985977950624: TensorSpec(shape=(), dtype=tf.resource, name=None)\n",
            "  131985959143024: TensorSpec(shape=(), dtype=tf.resource, name=None)\n",
            "  131985959149360: TensorSpec(shape=(), dtype=tf.resource, name=None)\n",
            "  131985959145488: TensorSpec(shape=(), dtype=tf.resource, name=None)\n"
          ]
        }
      ]
    },
    {
      "cell_type": "code",
      "source": [
        "import tensorflow.lite as tflite\n"
      ],
      "metadata": {
        "id": "lC1GPUuoRMwg"
      },
      "execution_count": 14,
      "outputs": []
    },
    {
      "cell_type": "code",
      "source": [
        "interpreter = tflite.Interpreter(model_path='clothing-model.tflite')\n",
        "interpreter.allocate_tensors()\n",
        "\n",
        "input_index = interpreter.get_input_details()[0]['index']\n",
        "output_index = interpreter.get_output_details()[0]['index']"
      ],
      "metadata": {
        "id": "YnPZSBq4RP-v"
      },
      "execution_count": 15,
      "outputs": []
    },
    {
      "cell_type": "code",
      "source": [
        "interpreter.set_tensor(input_index, X)\n",
        "interpreter.invoke()\n",
        "preds = interpreter.get_tensor(output_index)"
      ],
      "metadata": {
        "id": "TPF5GP8WRTH1"
      },
      "execution_count": 16,
      "outputs": []
    },
    {
      "cell_type": "code",
      "source": [
        "classes = [\n",
        "    'dress',\n",
        "    'hat',\n",
        "    'longsleeve',\n",
        "    'outwear',\n",
        "    'pants',\n",
        "    'shirt',\n",
        "    'shoes',\n",
        "    'shorts',\n",
        "    'skirt',\n",
        "    't-shirt'\n",
        "]\n",
        "\n",
        "dict(zip(classes, preds[0]))"
      ],
      "metadata": {
        "colab": {
          "base_uri": "https://localhost:8080/"
        },
        "id": "XQYuQs8aRX9h",
        "outputId": "f5034b24-540f-4241-b7fb-33e5a5a20c4e"
      },
      "execution_count": 17,
      "outputs": [
        {
          "output_type": "execute_result",
          "data": {
            "text/plain": [
              "{'dress': -2.229012,\n",
              " 'hat': -4.819433,\n",
              " 'longsleeve': -1.3372766,\n",
              " 'outwear': -1.0467798,\n",
              " 'pants': 7.7871327,\n",
              " 'shirt': -0.3799859,\n",
              " 'shoes': -2.9674675,\n",
              " 'shorts': 2.9388394,\n",
              " 'skirt': -2.460288,\n",
              " 't-shirt': -3.8072734}"
            ]
          },
          "metadata": {},
          "execution_count": 17
        }
      ]
    },
    {
      "cell_type": "markdown",
      "source": [
        "Remove TF Dependency"
      ],
      "metadata": {
        "id": "053D0h-3RYmq"
      }
    },
    {
      "cell_type": "code",
      "source": [
        "from PIL import Image\n"
      ],
      "metadata": {
        "id": "adM2SIMyRaDk"
      },
      "execution_count": 18,
      "outputs": []
    },
    {
      "cell_type": "code",
      "source": [
        "with Image.open('pants.jpg') as img:\n",
        "    img = img.resize((299, 299), Image.NEAREST)"
      ],
      "metadata": {
        "id": "wrWEM70xRftB"
      },
      "execution_count": 19,
      "outputs": []
    },
    {
      "cell_type": "code",
      "source": [
        "def preprocess_input(x):\n",
        "    x /= 127.5\n",
        "    x -= 1.\n",
        "    return x"
      ],
      "metadata": {
        "id": "6wetNcCRRh0k"
      },
      "execution_count": 20,
      "outputs": []
    },
    {
      "cell_type": "code",
      "source": [
        "x = np.array(img, dtype='float32')\n",
        "X = np.array([x])\n",
        "\n",
        "X = preprocess_input(X)"
      ],
      "metadata": {
        "id": "0_mHTt2vRj1Q"
      },
      "execution_count": 21,
      "outputs": []
    },
    {
      "cell_type": "code",
      "source": [
        "interpreter.set_tensor(input_index, X)\n",
        "interpreter.invoke()\n",
        "preds = interpreter.get_tensor(output_index)"
      ],
      "metadata": {
        "id": "iXMV56wTRkd5"
      },
      "execution_count": 22,
      "outputs": []
    },
    {
      "cell_type": "code",
      "source": [
        "classes = [\n",
        "    'dress',\n",
        "    'hat',\n",
        "    'longsleeve',\n",
        "    'outwear',\n",
        "    'pants',\n",
        "    'shirt',\n",
        "    'shoes',\n",
        "    'shorts',\n",
        "    'skirt',\n",
        "    't-shirt'\n",
        "]\n",
        "\n",
        "dict(zip(classes, preds[0]))"
      ],
      "metadata": {
        "colab": {
          "base_uri": "https://localhost:8080/"
        },
        "id": "HkqT0j85Rm1M",
        "outputId": "fe497add-50b7-4b38-dc4b-705e69c5c6c4"
      },
      "execution_count": 23,
      "outputs": [
        {
          "output_type": "execute_result",
          "data": {
            "text/plain": [
              "{'dress': -2.229012,\n",
              " 'hat': -4.819433,\n",
              " 'longsleeve': -1.3372766,\n",
              " 'outwear': -1.0467798,\n",
              " 'pants': 7.7871327,\n",
              " 'shirt': -0.3799859,\n",
              " 'shoes': -2.9674675,\n",
              " 'shorts': 2.9388394,\n",
              " 'skirt': -2.460288,\n",
              " 't-shirt': -3.8072734}"
            ]
          },
          "metadata": {},
          "execution_count": 23
        }
      ]
    },
    {
      "cell_type": "markdown",
      "source": [
        "Simpler way of doing it"
      ],
      "metadata": {
        "id": "HzNh2JSBRqj9"
      }
    },
    {
      "cell_type": "code",
      "source": [
        "!pip install keras-image-helper\n"
      ],
      "metadata": {
        "colab": {
          "base_uri": "https://localhost:8080/"
        },
        "id": "N2sGNFeXRtjS",
        "outputId": "69f81a65-8d66-4640-89ca-593a8bb131a5"
      },
      "execution_count": 24,
      "outputs": [
        {
          "output_type": "stream",
          "name": "stdout",
          "text": [
            "Collecting keras-image-helper\n",
            "  Downloading keras_image_helper-0.0.1-py3-none-any.whl.metadata (2.3 kB)\n",
            "Requirement already satisfied: numpy in /usr/local/lib/python3.10/dist-packages (from keras-image-helper) (1.26.4)\n",
            "Requirement already satisfied: pillow in /usr/local/lib/python3.10/dist-packages (from keras-image-helper) (11.0.0)\n",
            "Downloading keras_image_helper-0.0.1-py3-none-any.whl (4.6 kB)\n",
            "Installing collected packages: keras-image-helper\n",
            "Successfully installed keras-image-helper-0.0.1\n"
          ]
        }
      ]
    },
    {
      "cell_type": "code",
      "source": [
        "!pip install --extra-index-url https://google-coral.github.io/py-repo/ tflite_runtime\n"
      ],
      "metadata": {
        "colab": {
          "base_uri": "https://localhost:8080/"
        },
        "id": "-E6A4G4HRt-Y",
        "outputId": "45750803-b9e9-49de-b6cf-313801ef54f2"
      },
      "execution_count": 25,
      "outputs": [
        {
          "output_type": "stream",
          "name": "stdout",
          "text": [
            "Looking in indexes: https://pypi.org/simple, https://google-coral.github.io/py-repo/\n",
            "Collecting tflite_runtime\n",
            "  Downloading tflite_runtime-2.14.0-cp310-cp310-manylinux2014_x86_64.whl.metadata (1.4 kB)\n",
            "Requirement already satisfied: numpy>=1.23.2 in /usr/local/lib/python3.10/dist-packages (from tflite_runtime) (1.26.4)\n",
            "Downloading tflite_runtime-2.14.0-cp310-cp310-manylinux2014_x86_64.whl (2.4 MB)\n",
            "\u001b[2K   \u001b[90m━━━━━━━━━━━━━━━━━━━━━━━━━━━━━━━━━━━━━━━━\u001b[0m \u001b[32m2.4/2.4 MB\u001b[0m \u001b[31m22.1 MB/s\u001b[0m eta \u001b[36m0:00:00\u001b[0m\n",
            "\u001b[?25hInstalling collected packages: tflite_runtime\n",
            "Successfully installed tflite_runtime-2.14.0\n"
          ]
        }
      ]
    },
    {
      "cell_type": "code",
      "source": [
        "#import tensorflow.lite as tflite\n",
        "import tflite_runtime.interpreter as tflite\n",
        "from keras_image_helper import create_preprocessor"
      ],
      "metadata": {
        "id": "nEw0BiClRxtN"
      },
      "execution_count": 26,
      "outputs": []
    },
    {
      "cell_type": "code",
      "source": [
        "interpreter = tflite.Interpreter(model_path='clothing-model.tflite')\n",
        "interpreter.allocate_tensors()\n",
        "\n",
        "input_index = interpreter.get_input_details()[0]['index']\n",
        "output_index = interpreter.get_output_details()[0]['index']"
      ],
      "metadata": {
        "id": "rM8uqPG1R0hC"
      },
      "execution_count": 27,
      "outputs": []
    },
    {
      "cell_type": "code",
      "source": [
        "preprocessor = create_preprocessor('xception', target_size=(299, 299))\n"
      ],
      "metadata": {
        "id": "4h8EgTIaR2WA"
      },
      "execution_count": 28,
      "outputs": []
    },
    {
      "cell_type": "code",
      "source": [
        "url = 'http://bit.ly/mlbookcamp-pants'\n",
        "X = preprocessor.from_url(url)"
      ],
      "metadata": {
        "id": "3YNZyR4ZR4jI"
      },
      "execution_count": 29,
      "outputs": []
    },
    {
      "cell_type": "code",
      "source": [
        "interpreter.set_tensor(input_index, X)\n",
        "interpreter.invoke()\n",
        "preds = interpreter.get_tensor(output_index)"
      ],
      "metadata": {
        "id": "bkY6ThhbR6kE"
      },
      "execution_count": 30,
      "outputs": []
    },
    {
      "cell_type": "code",
      "source": [
        "classes = [\n",
        "    'dress',\n",
        "    'hat',\n",
        "    'longsleeve',\n",
        "    'outwear',\n",
        "    'pants',\n",
        "    'shirt',\n",
        "    'shoes',\n",
        "    'shorts',\n",
        "    'skirt',\n",
        "    't-shirt'\n",
        "]\n",
        "\n",
        "dict(zip(classes, preds[0]))"
      ],
      "metadata": {
        "colab": {
          "base_uri": "https://localhost:8080/"
        },
        "id": "W9idyO8IR8ji",
        "outputId": "d4901181-89e3-4e4f-a4ae-b8439fd23dfc"
      },
      "execution_count": 31,
      "outputs": [
        {
          "output_type": "execute_result",
          "data": {
            "text/plain": [
              "{'dress': -2.2290115,\n",
              " 'hat': -4.8194337,\n",
              " 'longsleeve': -1.3372767,\n",
              " 'outwear': -1.0467795,\n",
              " 'pants': 7.787133,\n",
              " 'shirt': -0.379986,\n",
              " 'shoes': -2.9674675,\n",
              " 'shorts': 2.9388397,\n",
              " 'skirt': -2.4602888,\n",
              " 't-shirt': -3.807273}"
            ]
          },
          "metadata": {},
          "execution_count": 31
        }
      ]
    },
    {
      "cell_type": "code",
      "source": [],
      "metadata": {
        "id": "zF21qmrRTMyF"
      },
      "execution_count": null,
      "outputs": []
    }
  ]
}