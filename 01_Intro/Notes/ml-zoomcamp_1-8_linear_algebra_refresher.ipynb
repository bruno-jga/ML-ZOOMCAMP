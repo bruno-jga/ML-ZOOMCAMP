{
 "cells": [
  {
   "cell_type": "code",
   "execution_count": 1,
   "metadata": {},
   "outputs": [],
   "source": [
    "import numpy as np"
   ]
  },
  {
   "cell_type": "code",
   "execution_count": 2,
   "metadata": {},
   "outputs": [],
   "source": [
    "def vector_vector_multiplication(u, v):\n",
    "    assert u.shape[0] == v.shape[0]\n",
    "\n",
    "    n = u.shape[0]\n",
    "    result = 0.0\n",
    "    for i in range(n):\n",
    "        result = result + u[i] * v[i]\n",
    "        \n",
    "    return result\n"
   ]
  },
  {
   "cell_type": "code",
   "execution_count": 3,
   "metadata": {},
   "outputs": [],
   "source": [
    "u=np.array([1,2,3,4,5])\n",
    "v=np.array([1,2,3,4,5])"
   ]
  },
  {
   "cell_type": "code",
   "execution_count": 4,
   "metadata": {},
   "outputs": [
    {
     "data": {
      "text/plain": [
       "55.0"
      ]
     },
     "execution_count": 4,
     "metadata": {},
     "output_type": "execute_result"
    }
   ],
   "source": [
    "vector_vector_multiplication(u,v)"
   ]
  },
  {
   "cell_type": "code",
   "execution_count": 5,
   "metadata": {},
   "outputs": [
    {
     "data": {
      "text/plain": [
       "55"
      ]
     },
     "execution_count": 5,
     "metadata": {},
     "output_type": "execute_result"
    }
   ],
   "source": [
    "u.dot(v)"
   ]
  },
  {
   "cell_type": "code",
   "execution_count": 6,
   "metadata": {},
   "outputs": [],
   "source": [
    "def matrix_vector_multiplication(u,v):\n",
    "    assert u.shape[1] == v.shape[0]\n",
    "    \n",
    "    n=u.shape[0]\n",
    "\n",
    "    result=np.zeros(n)\n",
    "    for i in range(n):\n",
    "        result[i]=vector_vector_multiplication(u[i],v)\n",
    "    \n",
    "    return result\n"
   ]
  },
  {
   "cell_type": "code",
   "execution_count": 7,
   "metadata": {},
   "outputs": [
    {
     "data": {
      "text/plain": [
       "array([[ 0.06390764,  0.02104369,  0.28713722, -0.12803142, -0.14656712],\n",
       "       [ 0.8046525 , -0.77349456,  1.16302274,  1.40547111, -0.69863856],\n",
       "       [-0.0898844 ,  0.76492453, -1.24003906, -1.74850617, -1.65641447],\n",
       "       [-1.16064703,  0.53346554,  0.96810258,  0.13134255, -0.40788455],\n",
       "       [ 0.45310978,  0.6318755 ,  0.92088056,  1.16119725, -0.62905715]])"
      ]
     },
     "execution_count": 7,
     "metadata": {},
     "output_type": "execute_result"
    }
   ],
   "source": [
    "a=np.random.randn(5,5)\n",
    "a"
   ]
  },
  {
   "cell_type": "code",
   "execution_count": 8,
   "metadata": {},
   "outputs": [],
   "source": [
    "b=np.array([1,2,3,5,9])"
   ]
  },
  {
   "cell_type": "code",
   "execution_count": 9,
   "metadata": {},
   "outputs": [
    {
     "data": {
      "text/plain": [
       "array([ -0.99185446,   3.48634006, -25.93041358,  -0.20365646,\n",
       "         4.62397431])"
      ]
     },
     "execution_count": 9,
     "metadata": {},
     "output_type": "execute_result"
    }
   ],
   "source": [
    "matrix_vector_multiplication(a,b)"
   ]
  },
  {
   "cell_type": "code",
   "execution_count": 10,
   "metadata": {},
   "outputs": [
    {
     "data": {
      "text/plain": [
       "array([ -0.99185446,   3.48634006, -25.93041358,  -0.20365646,\n",
       "         4.62397431])"
      ]
     },
     "execution_count": 10,
     "metadata": {},
     "output_type": "execute_result"
    }
   ],
   "source": [
    "a.dot(b)"
   ]
  },
  {
   "cell_type": "code",
   "execution_count": 11,
   "metadata": {},
   "outputs": [],
   "source": [
    "def matrix_matrix_multiplication(u,v):\n",
    "    assert u.shape[1] == v.shape[0]\n",
    "    n_rows = u.shape[0]\n",
    "    n_cols = v.shape[1]\n",
    "    result = np.zeros((n_rows,n_cols))\n",
    "    for i in range(n_cols):\n",
    "        vi=v[:,i]\n",
    "        Uvi=matrix_vector_multiplication(u,vi)\n",
    "        result[:,i]=Uvi\n",
    "    return result"
   ]
  },
  {
   "cell_type": "code",
   "execution_count": 12,
   "metadata": {},
   "outputs": [
    {
     "data": {
      "text/plain": [
       "array([[ 1.66058649, -0.17419714, -0.04760277, -0.72922633,  0.40473831],\n",
       "       [ 0.38417745, -0.70181398, -0.03221636, -0.12803229,  0.85777988],\n",
       "       [ 2.42310801, -0.06628818, -0.21649708,  0.10782588,  0.00920728],\n",
       "       [-2.36286676,  0.22831253, -0.02424639,  0.13639198,  0.27237673],\n",
       "       [ 0.767528  , -0.50602254, -0.42833756, -0.24425015,  0.07974298]])"
      ]
     },
     "execution_count": 12,
     "metadata": {},
     "output_type": "execute_result"
    }
   ],
   "source": [
    "#Matrix Inversion\n",
    "a_i=np.linalg.inv(a)\n",
    "a_i"
   ]
  },
  {
   "cell_type": "code",
   "execution_count": 13,
   "metadata": {},
   "outputs": [
    {
     "data": {
      "text/plain": [
       "array([[ 1.00000000e+00, -8.98900297e-17, -2.73902511e-17,\n",
       "         9.44495511e-17,  3.97163389e-17],\n",
       "       [-4.34651463e-17,  1.00000000e+00,  1.01975403e-16,\n",
       "        -1.14756284e-16,  1.71145764e-17],\n",
       "       [ 1.52897844e-16, -9.53856168e-17,  1.00000000e+00,\n",
       "         1.20911029e-16, -9.61756592e-17],\n",
       "       [-1.50816066e-16,  8.49751063e-17, -1.31047767e-16,\n",
       "         1.00000000e+00,  3.41078501e-17],\n",
       "       [-2.40666874e-18, -7.29750866e-17, -1.26654707e-16,\n",
       "         9.07969226e-17,  1.00000000e+00]])"
      ]
     },
     "execution_count": 13,
     "metadata": {},
     "output_type": "execute_result"
    }
   ],
   "source": [
    "a_i.dot(a)"
   ]
  },
  {
   "cell_type": "code",
   "execution_count": 14,
   "metadata": {},
   "outputs": [
    {
     "data": {
      "text/plain": [
       "array([[ 1.00000000e+00,  2.77555756e-17, -1.38777878e-17,\n",
       "        -3.46944695e-17,  0.00000000e+00],\n",
       "       [ 6.66133815e-16,  1.00000000e+00,  0.00000000e+00,\n",
       "        -2.77555756e-17, -6.93889390e-17],\n",
       "       [ 6.66133815e-16, -1.11022302e-16,  1.00000000e+00,\n",
       "         0.00000000e+00,  2.22044605e-16],\n",
       "       [ 1.11022302e-16,  0.00000000e+00,  0.00000000e+00,\n",
       "         1.00000000e+00,  2.77555756e-17],\n",
       "       [ 3.33066907e-16, -5.55111512e-17, -5.55111512e-17,\n",
       "        -2.77555756e-17,  1.00000000e+00]])"
      ]
     },
     "execution_count": 14,
     "metadata": {},
     "output_type": "execute_result"
    }
   ],
   "source": [
    "matrix_matrix_multiplication(a,a_i)"
   ]
  },
  {
   "cell_type": "code",
   "execution_count": null,
   "metadata": {},
   "outputs": [],
   "source": []
  }
 ],
 "metadata": {
  "kernelspec": {
   "display_name": "base",
   "language": "python",
   "name": "python3"
  },
  "language_info": {
   "codemirror_mode": {
    "name": "ipython",
    "version": 3
   },
   "file_extension": ".py",
   "mimetype": "text/x-python",
   "name": "python",
   "nbconvert_exporter": "python",
   "pygments_lexer": "ipython3",
   "version": "3.11.5"
  }
 },
 "nbformat": 4,
 "nbformat_minor": 2
}
